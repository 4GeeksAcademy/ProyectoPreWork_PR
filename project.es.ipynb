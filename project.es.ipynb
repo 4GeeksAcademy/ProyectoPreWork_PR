{
 "cells": [
  {
   "attachments": {},
   "cell_type": "markdown",
   "id": "innocent-university",
   "metadata": {},
   "source": [
    "# Limpieza de bienes raíces\n",
    "\n",
    "Este es un conjunto de datos (dataset) reales que fue descargado usando técnicas de web scraping. La data contiene registros de fotocasa, el cual es uno de los sitios mas populares de bienes raíces en España. Por favor no hagas estos (web scraping) a no ser que sea para propósitos académicos.\n",
    "\n",
    "El dataset fue descargado hace algunos años por Henry Navarro y en ningún caso se obtuvo beneficio económico de ello.\n",
    "\n",
    "Contiene miles de datos de casas reales publicadas en la web www.fotocasa.com. Tu objetivo es extraer tanta información como sea posible con el conocimiento que tienes hasta ahora de ciencia de datos, por ejemplo ¿cuál es la casa mas cara en todo el dataset?\n",
    "\n",
    "Empecemos precisamente con esa pregunta... ¡Buena suerte!\n",
    "\n",
    "Let's start with precisely that question... Good luck!"
   ]
  },
  {
   "attachments": {},
   "cell_type": "markdown",
   "id": "multiple-glass",
   "metadata": {},
   "source": [
    "#### Ejercicio 00. Lee el dataset assets/real_estate.csv e intenta visualizar la tabla (★☆☆)"
   ]
  },
  {
   "cell_type": "code",
   "execution_count": 20,
   "id": "frank-heath",
   "metadata": {},
   "outputs": [
    {
     "data": {
      "text/html": [
       "<div>\n",
       "<style scoped>\n",
       "    .dataframe tbody tr th:only-of-type {\n",
       "        vertical-align: middle;\n",
       "    }\n",
       "\n",
       "    .dataframe tbody tr th {\n",
       "        vertical-align: top;\n",
       "    }\n",
       "\n",
       "    .dataframe thead th {\n",
       "        text-align: right;\n",
       "    }\n",
       "</style>\n",
       "<table border=\"1\" class=\"dataframe\">\n",
       "  <thead>\n",
       "    <tr style=\"text-align: right;\">\n",
       "      <th></th>\n",
       "      <th>Unnamed: 0</th>\n",
       "      <th>id_realEstates</th>\n",
       "      <th>isNew</th>\n",
       "      <th>realEstate_name</th>\n",
       "      <th>phone_realEstate</th>\n",
       "      <th>url_inmueble</th>\n",
       "      <th>rooms</th>\n",
       "      <th>bathrooms</th>\n",
       "      <th>surface</th>\n",
       "      <th>price</th>\n",
       "      <th>...</th>\n",
       "      <th>level4Id</th>\n",
       "      <th>level5Id</th>\n",
       "      <th>level6Id</th>\n",
       "      <th>level7Id</th>\n",
       "      <th>level8Id</th>\n",
       "      <th>accuracy</th>\n",
       "      <th>latitude</th>\n",
       "      <th>longitude</th>\n",
       "      <th>zipCode</th>\n",
       "      <th>customZone</th>\n",
       "    </tr>\n",
       "  </thead>\n",
       "  <tbody>\n",
       "    <tr>\n",
       "      <th>0</th>\n",
       "      <td>1</td>\n",
       "      <td>153771986</td>\n",
       "      <td>False</td>\n",
       "      <td>ferrari 57 inmobiliaria</td>\n",
       "      <td>912177526.0</td>\n",
       "      <td>https://www.fotocasa.es/es/comprar/vivienda/ma...</td>\n",
       "      <td>3.0</td>\n",
       "      <td>2.0</td>\n",
       "      <td>103.0</td>\n",
       "      <td>195000</td>\n",
       "      <td>...</td>\n",
       "      <td>0</td>\n",
       "      <td>0</td>\n",
       "      <td>0</td>\n",
       "      <td>0</td>\n",
       "      <td>0</td>\n",
       "      <td>0</td>\n",
       "      <td>40,2948276786438</td>\n",
       "      <td>-3,44402412135624</td>\n",
       "      <td>NaN</td>\n",
       "      <td>NaN</td>\n",
       "    </tr>\n",
       "    <tr>\n",
       "      <th>1</th>\n",
       "      <td>2</td>\n",
       "      <td>153867863</td>\n",
       "      <td>False</td>\n",
       "      <td>tecnocasa fuenlabrada ferrocarril</td>\n",
       "      <td>916358736.0</td>\n",
       "      <td>https://www.fotocasa.es/es/comprar/vivienda/ma...</td>\n",
       "      <td>3.0</td>\n",
       "      <td>1.0</td>\n",
       "      <td>NaN</td>\n",
       "      <td>89000</td>\n",
       "      <td>...</td>\n",
       "      <td>0</td>\n",
       "      <td>0</td>\n",
       "      <td>0</td>\n",
       "      <td>0</td>\n",
       "      <td>0</td>\n",
       "      <td>1</td>\n",
       "      <td>40,28674</td>\n",
       "      <td>-3,79351</td>\n",
       "      <td>NaN</td>\n",
       "      <td>NaN</td>\n",
       "    </tr>\n",
       "    <tr>\n",
       "      <th>2</th>\n",
       "      <td>3</td>\n",
       "      <td>153430440</td>\n",
       "      <td>False</td>\n",
       "      <td>look find boadilla</td>\n",
       "      <td>916350408.0</td>\n",
       "      <td>https://www.fotocasa.es/es/comprar/vivienda/ma...</td>\n",
       "      <td>2.0</td>\n",
       "      <td>2.0</td>\n",
       "      <td>99.0</td>\n",
       "      <td>390000</td>\n",
       "      <td>...</td>\n",
       "      <td>0</td>\n",
       "      <td>0</td>\n",
       "      <td>0</td>\n",
       "      <td>0</td>\n",
       "      <td>0</td>\n",
       "      <td>0</td>\n",
       "      <td>40,4115646786438</td>\n",
       "      <td>-3,90662252135624</td>\n",
       "      <td>NaN</td>\n",
       "      <td>NaN</td>\n",
       "    </tr>\n",
       "    <tr>\n",
       "      <th>3</th>\n",
       "      <td>4</td>\n",
       "      <td>152776331</td>\n",
       "      <td>False</td>\n",
       "      <td>tecnocasa fuenlabrada ferrocarril</td>\n",
       "      <td>916358736.0</td>\n",
       "      <td>https://www.fotocasa.es/es/comprar/vivienda/ma...</td>\n",
       "      <td>3.0</td>\n",
       "      <td>1.0</td>\n",
       "      <td>86.0</td>\n",
       "      <td>89000</td>\n",
       "      <td>...</td>\n",
       "      <td>0</td>\n",
       "      <td>0</td>\n",
       "      <td>0</td>\n",
       "      <td>0</td>\n",
       "      <td>0</td>\n",
       "      <td>0</td>\n",
       "      <td>40,2853785786438</td>\n",
       "      <td>-3,79508142135624</td>\n",
       "      <td>NaN</td>\n",
       "      <td>NaN</td>\n",
       "    </tr>\n",
       "    <tr>\n",
       "      <th>4</th>\n",
       "      <td>5</td>\n",
       "      <td>153180188</td>\n",
       "      <td>False</td>\n",
       "      <td>ferrari 57 inmobiliaria</td>\n",
       "      <td>912177526.0</td>\n",
       "      <td>https://www.fotocasa.es/es/comprar/vivienda/ma...</td>\n",
       "      <td>2.0</td>\n",
       "      <td>2.0</td>\n",
       "      <td>106.0</td>\n",
       "      <td>172000</td>\n",
       "      <td>...</td>\n",
       "      <td>0</td>\n",
       "      <td>0</td>\n",
       "      <td>0</td>\n",
       "      <td>0</td>\n",
       "      <td>0</td>\n",
       "      <td>0</td>\n",
       "      <td>40,2998774864376</td>\n",
       "      <td>-3,45226301356237</td>\n",
       "      <td>NaN</td>\n",
       "      <td>NaN</td>\n",
       "    </tr>\n",
       "  </tbody>\n",
       "</table>\n",
       "<p>5 rows × 37 columns</p>\n",
       "</div>"
      ],
      "text/plain": [
       "   Unnamed: 0  id_realEstates  isNew                    realEstate_name  \\\n",
       "0           1       153771986  False            ferrari 57 inmobiliaria   \n",
       "1           2       153867863  False  tecnocasa fuenlabrada ferrocarril   \n",
       "2           3       153430440  False                 look find boadilla   \n",
       "3           4       152776331  False  tecnocasa fuenlabrada ferrocarril   \n",
       "4           5       153180188  False            ferrari 57 inmobiliaria   \n",
       "\n",
       "   phone_realEstate                                       url_inmueble  rooms  \\\n",
       "0       912177526.0  https://www.fotocasa.es/es/comprar/vivienda/ma...    3.0   \n",
       "1       916358736.0  https://www.fotocasa.es/es/comprar/vivienda/ma...    3.0   \n",
       "2       916350408.0  https://www.fotocasa.es/es/comprar/vivienda/ma...    2.0   \n",
       "3       916358736.0  https://www.fotocasa.es/es/comprar/vivienda/ma...    3.0   \n",
       "4       912177526.0  https://www.fotocasa.es/es/comprar/vivienda/ma...    2.0   \n",
       "\n",
       "   bathrooms  surface   price  ... level4Id level5Id level6Id level7Id  \\\n",
       "0        2.0    103.0  195000  ...        0        0        0        0   \n",
       "1        1.0      NaN   89000  ...        0        0        0        0   \n",
       "2        2.0     99.0  390000  ...        0        0        0        0   \n",
       "3        1.0     86.0   89000  ...        0        0        0        0   \n",
       "4        2.0    106.0  172000  ...        0        0        0        0   \n",
       "\n",
       "  level8Id accuracy          latitude          longitude zipCode customZone  \n",
       "0        0        0  40,2948276786438  -3,44402412135624     NaN        NaN  \n",
       "1        0        1          40,28674           -3,79351     NaN        NaN  \n",
       "2        0        0  40,4115646786438  -3,90662252135624     NaN        NaN  \n",
       "3        0        0  40,2853785786438  -3,79508142135624     NaN        NaN  \n",
       "4        0        0  40,2998774864376  -3,45226301356237     NaN        NaN  \n",
       "\n",
       "[5 rows x 37 columns]"
      ]
     },
     "execution_count": 20,
     "metadata": {},
     "output_type": "execute_result"
    }
   ],
   "source": [
    "import pandas as pd\n",
    "\n",
    "# this CSV file contains semicolons instead of comas as separator\n",
    "ds = pd.read_csv('assets/real_estate.csv', sep=';')\n",
    "\n",
    "ds.head()           #Revisar visualizacion de tabla"
   ]
  },
  {
   "attachments": {},
   "cell_type": "markdown",
   "id": "latin-guest",
   "metadata": {},
   "source": [
    "#### Ejercicio 01. ¿Cuál es la casa mas cara en el todo el dataset? (★☆☆)\n",
    "\n",
    "Imprime la direccion y el precio de la casa seleccionada. Por ejemplo:\n",
    "\n",
    "`The house with address General Street Nº5 is the most expensive and its price is 5000000 USD`"
   ]
  },
  {
   "cell_type": "code",
   "execution_count": 21,
   "id": "developing-optimum",
   "metadata": {},
   "outputs": [
    {
     "name": "stdout",
     "output_type": "stream",
     "text": [
      "The house with address 13110    El Escorial is the most expensive and its price is 8500000 USD.\n"
     ]
    }
   ],
   "source": [
    "import pandas as pd\n",
    "dt = pd.DataFrame(ds)\n",
    "maximo = max(dt['price'])           #Buscar valor maximo de precio\n",
    "\n",
    "print('The house with address', (dt.loc[dt['price']==max(dt.price)].address).to_string(), 'is the most expensive and its price is', maximo, 'USD.')"
   ]
  },
  {
   "attachments": {},
   "cell_type": "markdown",
   "id": "lesser-cosmetic",
   "metadata": {},
   "source": [
    "#### Ejercicio 02. ¿Cuál es la casa mas barata del dataset? (★☆☆)\n",
    "\n",
    "Imprime la dirección y el precio de la casa seleccionada. Por ejemplo:\n",
    "\n",
    "`The house with address Concrete Street Nº1 is the cheapest and its price is 12000 USD`"
   ]
  },
  {
   "cell_type": "code",
   "execution_count": 22,
   "id": "lovely-oasis",
   "metadata": {},
   "outputs": [
    {
     "name": "stdout",
     "output_type": "stream",
     "text": [
      "The house with address  7491    Berlin, Coslada is the cheapest and its price is  600 USD.\n"
     ]
    }
   ],
   "source": [
    "# TODO\n",
    "import pandas as pd\n",
    "df = dt.drop(dt[((dt['price'] == 0))].index)        # Revisar datos erroneos en dataset, como precio cero en una vivienda. \n",
    "\n",
    "print('The house with address ', (df.loc[df['price']== min(df.price)].address).to_string(),'is the cheapest and its price is ', min(df['price']), 'USD.')"
   ]
  },
  {
   "attachments": {},
   "cell_type": "markdown",
   "id": "compliant-fellowship",
   "metadata": {},
   "source": [
    "#### Ejercicio 03. ¿Cuál es la casa mas grande y la mas pequeña del dataset? (★☆☆)\n",
    "\n",
    "Imprime la dirección y el area de las casas seleccionadas. Por ejemplo:\n",
    "\n",
    "`The bigger house is located on Yukka Street Nº10 and its surface is 5000 meters`\n",
    "\n",
    "`The smaller house is located on County Road 1 N and its surface is 200 meters`"
   ]
  },
  {
   "cell_type": "code",
   "execution_count": 23,
   "id": "every-tiffany",
   "metadata": {},
   "outputs": [
    {
     "name": "stdout",
     "output_type": "stream",
     "text": [
      "The bigger house is located on  6794    Sevilla la Nueva and its surface is  249000.0 mts.\n",
      "The smaller house is located on  498    Calle Amparo,  Madrid Capital and its surface is  15.0 mts.\n"
     ]
    }
   ],
   "source": [
    "# TODO\n",
    "import pandas as pd\n",
    "\n",
    "print('The bigger house is located on ', (dt.loc[dt['surface']==max(dt.surface)].address).to_string(),'and its surface is ', max(df['surface']), 'mts.')\n",
    "print('The smaller house is located on ', (dt.loc[dt['surface']==min(dt.surface)].address).to_string(),'and its surface is ', min(df['surface']), 'mts.')"
   ]
  },
  {
   "attachments": {},
   "cell_type": "markdown",
   "id": "danish-spirit",
   "metadata": {},
   "source": [
    "#### Ejercicio 04. ¿Cuantas poblaciones (columna level5) contiene el dataset? (★☆☆)\n",
    "\n",
    "Imprime el nombre de las poblaciones separadas por coma. Por ejemplo:\n",
    "\n",
    "`> print(populations)`\n",
    "\n",
    "`population1, population2, population3,...`"
   ]
  },
  {
   "cell_type": "code",
   "execution_count": 24,
   "id": "exciting-accreditation",
   "metadata": {},
   "outputs": [
    {
     "name": "stdout",
     "output_type": "stream",
     "text": [
      "Las poblaciones del nivel 5 son: Arganda del Rey, Fuenlabrada, Boadilla del Monte, Las Rozas de Madrid,  Madrid Capital, Villaviciosa de Odón, Pinto, Valdemoro, Navalcarnero, Pozuelo de Alarcón, Torrejón de Ardoz, Navalagamella, San Sebastián de los Reyes, Rivas-vaciamadrid, Alpedrete, Móstoles, San Fernando de Henares, Coslada, Becerril de la Sierra, Alcalá de Henares, Chinchón, Parla, Alcorcón, El Escorial, Leganés, Pedrezuela, Majadahonda, Villanueva de la Cañada, Villanueva del Pardillo, Torrelodones, Moralzarzal, Mejorada del Campo, Aranjuez, Corpa, Getafe, Velilla de San Antonio, Sevilla la Nueva, San Martín de la Vega, Villalbilla, Collado Villalba, Alcobendas, El Molar (Madrid), Moraleja de Enmedio, Algete, Campo Real, Torrejón de la Calzada, Colmenar Viejo, Valdemorillo, Fuente El Saz de Jarama, Tres Cantos, Arroyomolinos (Madrid), Griñón, Paracuellos de Jarama, Guadarrama, Titulcia, Galapagar, Collado Mediano, Los Molinos, San Lorenzo de El Escorial, Loeches, San Martín de Valdeiglesias, Navas del Rey, Bustarviejo, Manzanares El Real, Carabaña, Casarrubuelos, Cercedilla, Fresnedillas de la Oliva, Valdemaqueda, Robledo de Chavela, Miraflores de la Sierra, Humanes de Madrid, Valdetorres de Jarama, San Agustín del Guadalix, Ciempozuelos, Camarma de Esteruelas, Torres de la Alameda, Talamanca de Jarama, El Atazar, Hoyo de Manzanares, El Boalo - Cerceda – Mataelpino, El Álamo, Valdilecha, Valdeolmos-Alalpardo, Guadalix de la Sierra, Belmonte de Tajo, El Vellón, Brunete, Redueña, Morata de Tajuña, Tielmes, Gargantilla del Lozoya, Meco, Venturada, Quijorna, Cenicientos, Torrejón de Velasco, Navacerrada, Santa María de la Alameda, Orusco de Tajuña, Daganzo de Arriba, Villamanta, Anchuelo, Valdaracete, Ajalvir, Los Santos de la Humosa, Villamanrique de Tajo, Colmenar de Oreja, Villa del Prado, Fuentidueña de Tajo, Colmenar del Arroyo, Valdelaguna, Cubas de la Sagra, Valdeavero, Aldea del Fresno, Ribatejada, Torrelaguna, Batres, Pezuela de las Torres, Colmenarejo, Serranillos del Valle, Cobeña, Soto del Real, El Berrueco, Villanueva de Perales, Fresno de Torote - Serracines, Pozuelo del Rey, Pelayos de la Presa, La Cabrera, Nuevo Baztán, Perales de Tajuña, Villaconejos, Villarejo de Salvanés, Cadalso de los Vidrios, Santorcaz, Madarcos, Garganta de los Montes, Puentes Viejas, Torremocha de Jarama, Valdemanco, Braojos, Lozoyuela-navas-sieteiglesias, Piñuécar-gandullas, Valdepiélagos, Valverde de Alcalá, Villar del Olmo, Villamantilla, Horcajo de la Sierra, Gascones, Zarzalejo, Villavieja del Lozoya, Brea de Tajo, Estremera, Chapinería, Navarredonda, Patones, Ambite, Navalafuente, Lozoya, Canencia, Cabanillas de la Sierra, Buitrago del Lozoya, Fresno de Torote, Robregordo, Pinilla del Valle, Rascafría, La Hiruela, Montejo de la Sierra\n"
     ]
    }
   ],
   "source": [
    "# TODO\n",
    "ds = pd.read_csv('assets/real_estate.csv', sep=';')\n",
    "dt = pd.DataFrame(ds)\n",
    "\n",
    "L5 = dt['level5'].drop_duplicates()         #Eliminacion de datos repetidos\n",
    "print('Las poblaciones del nivel 5 son:', ', '.join(L5))"
   ]
  },
  {
   "attachments": {},
   "cell_type": "markdown",
   "id": "crazy-blame",
   "metadata": {},
   "source": [
    "#### Ejercicio 05. ¿El data set contiene valores no admitidos (NAs)? (★☆☆)\n",
    "\n",
    "Imprima un booleano (`true` o `fase`) seguido de la fila/columna que contiene el NAs."
   ]
  },
  {
   "cell_type": "code",
   "execution_count": 25,
   "id": "e7767e4a",
   "metadata": {},
   "outputs": [
    {
     "data": {
      "text/plain": [
       "Unnamed: 0          False\n",
       "id_realEstates      False\n",
       "isNew               False\n",
       "realEstate_name      True\n",
       "phone_realEstate     True\n",
       "url_inmueble        False\n",
       "rooms                True\n",
       "bathrooms            True\n",
       "surface              True\n",
       "price               False\n",
       "date                False\n",
       "description          True\n",
       "address             False\n",
       "country             False\n",
       "level1              False\n",
       "level2              False\n",
       "level3              False\n",
       "level4               True\n",
       "level5              False\n",
       "level6               True\n",
       "level7               True\n",
       "level8               True\n",
       "upperLevel          False\n",
       "countryId           False\n",
       "level1Id            False\n",
       "level2Id            False\n",
       "level3Id            False\n",
       "level4Id            False\n",
       "level5Id            False\n",
       "level6Id            False\n",
       "level7Id            False\n",
       "level8Id            False\n",
       "accuracy            False\n",
       "latitude            False\n",
       "longitude           False\n",
       "zipCode              True\n",
       "customZone           True\n",
       "dtype: bool"
      ]
     },
     "execution_count": 25,
     "metadata": {},
     "output_type": "execute_result"
    }
   ],
   "source": [
    "dt.isnull().any()   #Columnas con valores NAs (True) y columnas sin valores NAs (False)"
   ]
  },
  {
   "cell_type": "code",
   "execution_count": 26,
   "id": "transparent-poetry",
   "metadata": {},
   "outputs": [
    {
     "data": {
      "text/plain": [
       "Unnamed: 0              0\n",
       "id_realEstates          0\n",
       "isNew                   0\n",
       "realEstate_name        10\n",
       "phone_realEstate      794\n",
       "url_inmueble            0\n",
       "rooms                 353\n",
       "bathrooms             345\n",
       "surface              1250\n",
       "price                   0\n",
       "date                    0\n",
       "description           142\n",
       "address                 0\n",
       "country                 0\n",
       "level1                  0\n",
       "level2                  0\n",
       "level3                  0\n",
       "level4               6643\n",
       "level5                  0\n",
       "level6              14627\n",
       "level7               2277\n",
       "level8               8579\n",
       "upperLevel              0\n",
       "countryId               0\n",
       "level1Id                0\n",
       "level2Id                0\n",
       "level3Id                0\n",
       "level4Id                0\n",
       "level5Id                0\n",
       "level6Id                0\n",
       "level7Id                0\n",
       "level8Id                0\n",
       "accuracy                0\n",
       "latitude                0\n",
       "longitude               0\n",
       "zipCode             15335\n",
       "customZone          15335\n",
       "dtype: int64"
      ]
     },
     "execution_count": 26,
     "metadata": {},
     "output_type": "execute_result"
    }
   ],
   "source": [
    "# TODO\n",
    "dt.isna().sum()                 #Cantidad de NAs por columna"
   ]
  },
  {
   "cell_type": "code",
   "execution_count": 27,
   "id": "daf822bb",
   "metadata": {},
   "outputs": [
    {
     "data": {
      "text/plain": [
       "0        True\n",
       "1        True\n",
       "2        True\n",
       "3        True\n",
       "4        True\n",
       "         ... \n",
       "15330    True\n",
       "15331    True\n",
       "15332    True\n",
       "15333    True\n",
       "15334    True\n",
       "Length: 15275, dtype: bool"
      ]
     },
     "execution_count": 27,
     "metadata": {},
     "output_type": "execute_result"
    }
   ],
   "source": [
    "df.isna().any(axis=1)  #Filas con valores NAs (True) y columnas sin valores NAs (False)"
   ]
  },
  {
   "cell_type": "code",
   "execution_count": 28,
   "id": "42bca6c4",
   "metadata": {},
   "outputs": [
    {
     "data": {
      "text/plain": [
       "0        4\n",
       "1        5\n",
       "2        4\n",
       "3        4\n",
       "4        4\n",
       "        ..\n",
       "15330    4\n",
       "15331    5\n",
       "15332    5\n",
       "15333    5\n",
       "15334    4\n",
       "Length: 15275, dtype: int64"
      ]
     },
     "execution_count": 28,
     "metadata": {},
     "output_type": "execute_result"
    }
   ],
   "source": [
    "df.isna().sum(axis=1)               #Cantidad de NAs por fila"
   ]
  },
  {
   "cell_type": "code",
   "execution_count": 29,
   "id": "ba136092",
   "metadata": {},
   "outputs": [
    {
     "data": {
      "text/html": [
       "<div>\n",
       "<style scoped>\n",
       "    .dataframe tbody tr th:only-of-type {\n",
       "        vertical-align: middle;\n",
       "    }\n",
       "\n",
       "    .dataframe tbody tr th {\n",
       "        vertical-align: top;\n",
       "    }\n",
       "\n",
       "    .dataframe thead th {\n",
       "        text-align: right;\n",
       "    }\n",
       "</style>\n",
       "<table border=\"1\" class=\"dataframe\">\n",
       "  <thead>\n",
       "    <tr style=\"text-align: right;\">\n",
       "      <th></th>\n",
       "      <th>Unnamed: 0</th>\n",
       "      <th>id_realEstates</th>\n",
       "      <th>isNew</th>\n",
       "      <th>realEstate_name</th>\n",
       "      <th>phone_realEstate</th>\n",
       "      <th>url_inmueble</th>\n",
       "      <th>rooms</th>\n",
       "      <th>bathrooms</th>\n",
       "      <th>surface</th>\n",
       "      <th>price</th>\n",
       "      <th>...</th>\n",
       "      <th>level4Id</th>\n",
       "      <th>level5Id</th>\n",
       "      <th>level6Id</th>\n",
       "      <th>level7Id</th>\n",
       "      <th>level8Id</th>\n",
       "      <th>accuracy</th>\n",
       "      <th>latitude</th>\n",
       "      <th>longitude</th>\n",
       "      <th>zipCode</th>\n",
       "      <th>customZone</th>\n",
       "    </tr>\n",
       "  </thead>\n",
       "  <tbody>\n",
       "    <tr>\n",
       "      <th>0</th>\n",
       "      <td>False</td>\n",
       "      <td>False</td>\n",
       "      <td>False</td>\n",
       "      <td>False</td>\n",
       "      <td>False</td>\n",
       "      <td>False</td>\n",
       "      <td>False</td>\n",
       "      <td>False</td>\n",
       "      <td>False</td>\n",
       "      <td>False</td>\n",
       "      <td>...</td>\n",
       "      <td>False</td>\n",
       "      <td>False</td>\n",
       "      <td>False</td>\n",
       "      <td>False</td>\n",
       "      <td>False</td>\n",
       "      <td>False</td>\n",
       "      <td>False</td>\n",
       "      <td>False</td>\n",
       "      <td>True</td>\n",
       "      <td>True</td>\n",
       "    </tr>\n",
       "    <tr>\n",
       "      <th>1</th>\n",
       "      <td>False</td>\n",
       "      <td>False</td>\n",
       "      <td>False</td>\n",
       "      <td>False</td>\n",
       "      <td>False</td>\n",
       "      <td>False</td>\n",
       "      <td>False</td>\n",
       "      <td>False</td>\n",
       "      <td>True</td>\n",
       "      <td>False</td>\n",
       "      <td>...</td>\n",
       "      <td>False</td>\n",
       "      <td>False</td>\n",
       "      <td>False</td>\n",
       "      <td>False</td>\n",
       "      <td>False</td>\n",
       "      <td>False</td>\n",
       "      <td>False</td>\n",
       "      <td>False</td>\n",
       "      <td>True</td>\n",
       "      <td>True</td>\n",
       "    </tr>\n",
       "    <tr>\n",
       "      <th>2</th>\n",
       "      <td>False</td>\n",
       "      <td>False</td>\n",
       "      <td>False</td>\n",
       "      <td>False</td>\n",
       "      <td>False</td>\n",
       "      <td>False</td>\n",
       "      <td>False</td>\n",
       "      <td>False</td>\n",
       "      <td>False</td>\n",
       "      <td>False</td>\n",
       "      <td>...</td>\n",
       "      <td>False</td>\n",
       "      <td>False</td>\n",
       "      <td>False</td>\n",
       "      <td>False</td>\n",
       "      <td>False</td>\n",
       "      <td>False</td>\n",
       "      <td>False</td>\n",
       "      <td>False</td>\n",
       "      <td>True</td>\n",
       "      <td>True</td>\n",
       "    </tr>\n",
       "    <tr>\n",
       "      <th>3</th>\n",
       "      <td>False</td>\n",
       "      <td>False</td>\n",
       "      <td>False</td>\n",
       "      <td>False</td>\n",
       "      <td>False</td>\n",
       "      <td>False</td>\n",
       "      <td>False</td>\n",
       "      <td>False</td>\n",
       "      <td>False</td>\n",
       "      <td>False</td>\n",
       "      <td>...</td>\n",
       "      <td>False</td>\n",
       "      <td>False</td>\n",
       "      <td>False</td>\n",
       "      <td>False</td>\n",
       "      <td>False</td>\n",
       "      <td>False</td>\n",
       "      <td>False</td>\n",
       "      <td>False</td>\n",
       "      <td>True</td>\n",
       "      <td>True</td>\n",
       "    </tr>\n",
       "    <tr>\n",
       "      <th>4</th>\n",
       "      <td>False</td>\n",
       "      <td>False</td>\n",
       "      <td>False</td>\n",
       "      <td>False</td>\n",
       "      <td>False</td>\n",
       "      <td>False</td>\n",
       "      <td>False</td>\n",
       "      <td>False</td>\n",
       "      <td>False</td>\n",
       "      <td>False</td>\n",
       "      <td>...</td>\n",
       "      <td>False</td>\n",
       "      <td>False</td>\n",
       "      <td>False</td>\n",
       "      <td>False</td>\n",
       "      <td>False</td>\n",
       "      <td>False</td>\n",
       "      <td>False</td>\n",
       "      <td>False</td>\n",
       "      <td>True</td>\n",
       "      <td>True</td>\n",
       "    </tr>\n",
       "    <tr>\n",
       "      <th>...</th>\n",
       "      <td>...</td>\n",
       "      <td>...</td>\n",
       "      <td>...</td>\n",
       "      <td>...</td>\n",
       "      <td>...</td>\n",
       "      <td>...</td>\n",
       "      <td>...</td>\n",
       "      <td>...</td>\n",
       "      <td>...</td>\n",
       "      <td>...</td>\n",
       "      <td>...</td>\n",
       "      <td>...</td>\n",
       "      <td>...</td>\n",
       "      <td>...</td>\n",
       "      <td>...</td>\n",
       "      <td>...</td>\n",
       "      <td>...</td>\n",
       "      <td>...</td>\n",
       "      <td>...</td>\n",
       "      <td>...</td>\n",
       "      <td>...</td>\n",
       "    </tr>\n",
       "    <tr>\n",
       "      <th>15330</th>\n",
       "      <td>False</td>\n",
       "      <td>False</td>\n",
       "      <td>False</td>\n",
       "      <td>False</td>\n",
       "      <td>False</td>\n",
       "      <td>False</td>\n",
       "      <td>False</td>\n",
       "      <td>False</td>\n",
       "      <td>False</td>\n",
       "      <td>False</td>\n",
       "      <td>...</td>\n",
       "      <td>False</td>\n",
       "      <td>False</td>\n",
       "      <td>False</td>\n",
       "      <td>False</td>\n",
       "      <td>False</td>\n",
       "      <td>False</td>\n",
       "      <td>False</td>\n",
       "      <td>False</td>\n",
       "      <td>True</td>\n",
       "      <td>True</td>\n",
       "    </tr>\n",
       "    <tr>\n",
       "      <th>15331</th>\n",
       "      <td>False</td>\n",
       "      <td>False</td>\n",
       "      <td>False</td>\n",
       "      <td>False</td>\n",
       "      <td>False</td>\n",
       "      <td>False</td>\n",
       "      <td>False</td>\n",
       "      <td>False</td>\n",
       "      <td>False</td>\n",
       "      <td>False</td>\n",
       "      <td>...</td>\n",
       "      <td>False</td>\n",
       "      <td>False</td>\n",
       "      <td>False</td>\n",
       "      <td>False</td>\n",
       "      <td>False</td>\n",
       "      <td>False</td>\n",
       "      <td>False</td>\n",
       "      <td>False</td>\n",
       "      <td>True</td>\n",
       "      <td>True</td>\n",
       "    </tr>\n",
       "    <tr>\n",
       "      <th>15332</th>\n",
       "      <td>False</td>\n",
       "      <td>False</td>\n",
       "      <td>False</td>\n",
       "      <td>False</td>\n",
       "      <td>False</td>\n",
       "      <td>False</td>\n",
       "      <td>False</td>\n",
       "      <td>False</td>\n",
       "      <td>False</td>\n",
       "      <td>False</td>\n",
       "      <td>...</td>\n",
       "      <td>False</td>\n",
       "      <td>False</td>\n",
       "      <td>False</td>\n",
       "      <td>False</td>\n",
       "      <td>False</td>\n",
       "      <td>False</td>\n",
       "      <td>False</td>\n",
       "      <td>False</td>\n",
       "      <td>True</td>\n",
       "      <td>True</td>\n",
       "    </tr>\n",
       "    <tr>\n",
       "      <th>15333</th>\n",
       "      <td>False</td>\n",
       "      <td>False</td>\n",
       "      <td>False</td>\n",
       "      <td>False</td>\n",
       "      <td>False</td>\n",
       "      <td>False</td>\n",
       "      <td>False</td>\n",
       "      <td>False</td>\n",
       "      <td>False</td>\n",
       "      <td>False</td>\n",
       "      <td>...</td>\n",
       "      <td>False</td>\n",
       "      <td>False</td>\n",
       "      <td>False</td>\n",
       "      <td>False</td>\n",
       "      <td>False</td>\n",
       "      <td>False</td>\n",
       "      <td>False</td>\n",
       "      <td>False</td>\n",
       "      <td>True</td>\n",
       "      <td>True</td>\n",
       "    </tr>\n",
       "    <tr>\n",
       "      <th>15334</th>\n",
       "      <td>False</td>\n",
       "      <td>False</td>\n",
       "      <td>False</td>\n",
       "      <td>False</td>\n",
       "      <td>False</td>\n",
       "      <td>False</td>\n",
       "      <td>False</td>\n",
       "      <td>False</td>\n",
       "      <td>False</td>\n",
       "      <td>False</td>\n",
       "      <td>...</td>\n",
       "      <td>False</td>\n",
       "      <td>False</td>\n",
       "      <td>False</td>\n",
       "      <td>False</td>\n",
       "      <td>False</td>\n",
       "      <td>False</td>\n",
       "      <td>False</td>\n",
       "      <td>False</td>\n",
       "      <td>True</td>\n",
       "      <td>True</td>\n",
       "    </tr>\n",
       "  </tbody>\n",
       "</table>\n",
       "<p>15335 rows × 37 columns</p>\n",
       "</div>"
      ],
      "text/plain": [
       "       Unnamed: 0  id_realEstates  isNew  realEstate_name  phone_realEstate  \\\n",
       "0           False           False  False            False             False   \n",
       "1           False           False  False            False             False   \n",
       "2           False           False  False            False             False   \n",
       "3           False           False  False            False             False   \n",
       "4           False           False  False            False             False   \n",
       "...           ...             ...    ...              ...               ...   \n",
       "15330       False           False  False            False             False   \n",
       "15331       False           False  False            False             False   \n",
       "15332       False           False  False            False             False   \n",
       "15333       False           False  False            False             False   \n",
       "15334       False           False  False            False             False   \n",
       "\n",
       "       url_inmueble  rooms  bathrooms  surface  price  ...  level4Id  \\\n",
       "0             False  False      False    False  False  ...     False   \n",
       "1             False  False      False     True  False  ...     False   \n",
       "2             False  False      False    False  False  ...     False   \n",
       "3             False  False      False    False  False  ...     False   \n",
       "4             False  False      False    False  False  ...     False   \n",
       "...             ...    ...        ...      ...    ...  ...       ...   \n",
       "15330         False  False      False    False  False  ...     False   \n",
       "15331         False  False      False    False  False  ...     False   \n",
       "15332         False  False      False    False  False  ...     False   \n",
       "15333         False  False      False    False  False  ...     False   \n",
       "15334         False  False      False    False  False  ...     False   \n",
       "\n",
       "       level5Id  level6Id  level7Id  level8Id  accuracy  latitude  longitude  \\\n",
       "0         False     False     False     False     False     False      False   \n",
       "1         False     False     False     False     False     False      False   \n",
       "2         False     False     False     False     False     False      False   \n",
       "3         False     False     False     False     False     False      False   \n",
       "4         False     False     False     False     False     False      False   \n",
       "...         ...       ...       ...       ...       ...       ...        ...   \n",
       "15330     False     False     False     False     False     False      False   \n",
       "15331     False     False     False     False     False     False      False   \n",
       "15332     False     False     False     False     False     False      False   \n",
       "15333     False     False     False     False     False     False      False   \n",
       "15334     False     False     False     False     False     False      False   \n",
       "\n",
       "       zipCode  customZone  \n",
       "0         True        True  \n",
       "1         True        True  \n",
       "2         True        True  \n",
       "3         True        True  \n",
       "4         True        True  \n",
       "...        ...         ...  \n",
       "15330     True        True  \n",
       "15331     True        True  \n",
       "15332     True        True  \n",
       "15333     True        True  \n",
       "15334     True        True  \n",
       "\n",
       "[15335 rows x 37 columns]"
      ]
     },
     "execution_count": 29,
     "metadata": {},
     "output_type": "execute_result"
    }
   ],
   "source": [
    "dt.isna()               #Dataframe de tipo booleano cuando es el dato es NA (True) y cuando no lo es (False)"
   ]
  },
  {
   "attachments": {},
   "cell_type": "markdown",
   "id": "italic-hydrogen",
   "metadata": {},
   "source": [
    "#### Ejercicio 06. Elimina los NAs del data set, si aplica (★★☆)\n",
    "\n",
    "Imprima una comparación entre las dimensiones del DataFrame original versus el DataFrame después de las eliminaciones.\n"
   ]
  },
  {
   "cell_type": "code",
   "execution_count": 51,
   "id": "administrative-roads",
   "metadata": {},
   "outputs": [
    {
     "name": "stdout",
     "output_type": "stream",
     "text": [
      "Dataframe original posee dimensiones de (15335, 37), mientras que dataframe con columnas que contengan NA eliminadas posee dimensiones de (15335, 25)\n"
     ]
    }
   ],
   "source": [
    "# TODO\n",
    "import pandas as pd\n",
    "dt_filtrado_col = dt.dropna(axis=1)\n",
    "dt_filtrado_fil = dt.dropna(axis=0)\n",
    "print(f'Dataframe original posee dimensiones de {dt.shape}, mientras que dataframe con columnas que contengan NA eliminadas posee dimensiones de {dt_filtrado_col.shape}') \n"
   ]
  },
  {
   "attachments": {},
   "cell_type": "markdown",
   "id": "middle-china",
   "metadata": {},
   "source": [
    "#### Ejercicio 07. ¿Cuál la media de precios en la población (columna level5) de \"Arroyomolinos (Madrid)\"? (★★☆)\n",
    "\n",
    "Imprima el valor obtenido"
   ]
  },
  {
   "cell_type": "code",
   "execution_count": 31,
   "id": "nuclear-belief",
   "metadata": {},
   "outputs": [
    {
     "name": "stdout",
     "output_type": "stream",
     "text": [
      "El promedio de precios en la poblacion de Arroyomolinos (Madrid) es de  294541.6 USD.\n"
     ]
    }
   ],
   "source": [
    "# TODO\n",
    "arroyo = dt[['price','level5']]                             #Filtrar a DF con las columnas necesarias\n",
    "arroyo_mean= arroyo.groupby(['level5']).mean().round(1)     #Agrupar por poblacion, promediar ventas y aproximar para reducir decimales\n",
    "print(f'El promedio de precios en la poblacion de Arroyomolinos (Madrid) es de ', arroyo_mean['price']['Arroyomolinos (Madrid)'] , 'USD.')"
   ]
  },
  {
   "attachments": {},
   "cell_type": "markdown",
   "id": "concerned-radical",
   "metadata": {},
   "source": [
    "#### Ejercicio 08. Trazar el histograma de los precios para la población (level5 column) de \"Arroyomolinos (Madrid)\" y explica qué observas (★★☆)\n",
    "\n",
    "Imprime el histograma de los precios y escribe en la celda del Markdown un breve análisis del trazado.\n"
   ]
  },
  {
   "cell_type": "code",
   "execution_count": 57,
   "id": "sudden-message",
   "metadata": {},
   "outputs": [
    {
     "data": {
      "image/png": "[encoded data removed]",
      "text/plain": [
       "<Figure size 640x480 with 1 Axes>"
      ]
     },
     "metadata": {},
     "output_type": "display_data"
    }
   ],
   "source": [
    "# TODO: Code\n",
    "import matplotlib.pyplot as plt\n",
    "\n",
    "arroyo = dt[['price','level5']]                             #Filtrar a DF con las columnas necesarias\n",
    "arroyomolinos = arroyo.set_index('level5')                  #Convertir columna con poblaciones en fila\n",
    "df_arroyo = arroyomolinos.loc['Arroyomolinos (Madrid)']                 #Filtrar poblacion requerida\n",
    "\n",
    "fig, ax = plt.subplots()\n",
    "plt.hist(df_arroyo, bins=10, edgecolor='white')\n",
    "plt.show()"
   ]
  },
  {
   "attachments": {},
   "cell_type": "markdown",
   "id": "impressed-combination",
   "metadata": {},
   "source": [
    "**TODO: Markdown**. El histograma indica que una abrumadora mayoria de las propiedades de Arroyomolinos (Madrid) tiene un precio entre los 18 mil y los 40 mil dolares. Con escasa presencia de los extremos (reducido numero de propiedades por debajo de los 18 mil dolares y por sobre los 40 mil dolares)."
   ]
  },
  {
   "attachments": {},
   "cell_type": "markdown",
   "id": "actual-edinburgh",
   "metadata": {},
   "source": [
    "#### Ejercicio 09. ¿ Son los precios promedios de \"Valdemorillo\" y \"Galapagar\" los mismos? (★★☆)\n",
    "\n",
    "Imprime ambos promedio y escribe una conclusion acerca de ellos"
   ]
  },
  {
   "cell_type": "code",
   "execution_count": 33,
   "id": "numeric-commerce",
   "metadata": {},
   "outputs": [
    {
     "name": "stdout",
     "output_type": "stream",
     "text": [
      "El promedio de precios en la poblacion de Valdemorrillo es de  363860.3 USD.\n",
      "El promedio de precios en la poblacion de Galapagar es de  360063.2 USD.\n",
      "Ambas poblaciones no poseen el mismo promedio de precios de vivienda.\n"
     ]
    }
   ],
   "source": [
    "# TODO\n",
    "data_price = dt[['price','level5']]                             #Filtrar a DF con las columnas necesarias\n",
    "data_price_mean= arroyo.groupby(['level5']).mean().round(1)     #Agrupar por poblacion, promediar ventas y reducir decimales\n",
    "\n",
    "print(f'El promedio de precios en la poblacion de Valdemorrillo es de ', data_price_mean['price']['Valdemorillo'] , 'USD.')\n",
    "print(f'El promedio de precios en la poblacion de Galapagar es de ', data_price_mean['price']['Galapagar'] , 'USD.')\n",
    "\n",
    "if data_price_mean['price']['Valdemorillo']== data_price_mean['price']['Galapagar']:\n",
    "    print('Ambas poblaciones poseen el mismo promedio de precios de vivienda.')\n",
    "else:\n",
    "    print('Ambas poblaciones no poseen el mismo promedio de precios de vivienda.')"
   ]
  },
  {
   "attachments": {},
   "cell_type": "markdown",
   "id": "lonely-article",
   "metadata": {},
   "source": [
    "#### Ejercicio 10. ¿Son los promedios de precio por metro cuadrado (price/m2) de \"Valdemorillo\" y \"Galapagar\" los mismos? (★★☆)\n",
    "\n",
    "Imprime ambos promedios de precio y escribe una conclusion acerca de ellos.\n",
    "\n",
    "Pista: Crea una nueva columna llamada `pps` (price per square) y luego analiza los valore.s"
   ]
  },
  {
   "cell_type": "code",
   "execution_count": 34,
   "id": "hourly-globe",
   "metadata": {},
   "outputs": [
    {
     "name": "stdout",
     "output_type": "stream",
     "text": [
      "El promedio de precios por metro cuadrado en la poblacion de Galapagar es de  1178.526 mts2.\n",
      "El promedio de precios por metro cuadrado en la poblacion de Valdemorillo es de  1039.544 mts2.\n",
      "Ambas poblaciones no poseen el mismo promedio de precios de metro cuadrado por vivienda.\n"
     ]
    }
   ],
   "source": [
    "# TODO\n",
    "data_surface = dt[['surface','level5','price']]\n",
    "\n",
    "data_surface_mean= data_surface.groupby(['level5']).mean().round(3)     #Agrupar por poblacion, promediar superficie y reducir decimales\n",
    "data_surface_mean['pps']= data_surface_mean['price']/data_surface_mean['surface']\n",
    "\n",
    "print(f'El promedio de precios por metro cuadrado en la poblacion de Galapagar es de ', data_surface_mean['pps']['Galapagar'].round(3), 'mts2.')\n",
    "print(f'El promedio de precios por metro cuadrado en la poblacion de Valdemorillo es de ', data_surface_mean['pps']['Valdemorillo'].round(3), 'mts2.')\n",
    "\n",
    "if data_surface_mean['pps']['Valdemorillo']== data_surface_mean['pps']['Galapagar']:\n",
    "    print('Ambas poblaciones poseen el mismo promedio de precios de metro cuadrado por vivienda.')\n",
    "else:\n",
    "    print('Ambas poblaciones no poseen el mismo promedio de precios de metro cuadrado por vivienda.')"
   ]
  },
  {
   "attachments": {},
   "cell_type": "markdown",
   "id": "pleasant-invite",
   "metadata": {},
   "source": [
    "#### Ejercicio 11. Analiza la relación entre la superficie y el precio de las casas. (★★☆)\n",
    "\n",
    "Pista: Puedes hacer un `scatter plot` y luego escribir una conclusion al respecto."
   ]
  },
  {
   "cell_type": "code",
   "execution_count": 35,
   "id": "ef1ae5bf",
   "metadata": {},
   "outputs": [
    {
     "name": "stderr",
     "output_type": "stream",
     "text": [
      "/tmp/ipykernel_2527/649627745.py:2: SettingWithCopyWarning: \n",
      "A value is trying to be set on a copy of a slice from a DataFrame\n",
      "\n",
      "See the caveats in the documentation: https://pandas.pydata.org/pandas-docs/stable/user_guide/indexing.html#returning-a-view-versus-a-copy\n",
      "  data_m2.dropna(inplace=True)            #Eliminar filas cuando no posean datos de precio o superficie\n"
     ]
    },
    {
     "data": {
      "text/html": [
       "<div>\n",
       "<style scoped>\n",
       "    .dataframe tbody tr th:only-of-type {\n",
       "        vertical-align: middle;\n",
       "    }\n",
       "\n",
       "    .dataframe tbody tr th {\n",
       "        vertical-align: top;\n",
       "    }\n",
       "\n",
       "    .dataframe thead th {\n",
       "        text-align: right;\n",
       "    }\n",
       "</style>\n",
       "<table border=\"1\" class=\"dataframe\">\n",
       "  <thead>\n",
       "    <tr style=\"text-align: right;\">\n",
       "      <th></th>\n",
       "      <th>surface</th>\n",
       "      <th>price</th>\n",
       "    </tr>\n",
       "  </thead>\n",
       "  <tbody>\n",
       "    <tr>\n",
       "      <th>1198</th>\n",
       "      <td>5083.0</td>\n",
       "      <td>825000</td>\n",
       "    </tr>\n",
       "    <tr>\n",
       "      <th>8537</th>\n",
       "      <td>5504.0</td>\n",
       "      <td>790000</td>\n",
       "    </tr>\n",
       "    <tr>\n",
       "      <th>14852</th>\n",
       "      <td>16853.0</td>\n",
       "      <td>90000</td>\n",
       "    </tr>\n",
       "    <tr>\n",
       "      <th>12676</th>\n",
       "      <td>66666.0</td>\n",
       "      <td>389000</td>\n",
       "    </tr>\n",
       "    <tr>\n",
       "      <th>6794</th>\n",
       "      <td>249000.0</td>\n",
       "      <td>289000</td>\n",
       "    </tr>\n",
       "  </tbody>\n",
       "</table>\n",
       "</div>"
      ],
      "text/plain": [
       "        surface   price\n",
       "1198     5083.0  825000\n",
       "8537     5504.0  790000\n",
       "14852   16853.0   90000\n",
       "12676   66666.0  389000\n",
       "6794   249000.0  289000"
      ]
     },
     "execution_count": 35,
     "metadata": {},
     "output_type": "execute_result"
    }
   ],
   "source": [
    "data_m2 = dt[['surface','price']]       #Crear DF con las columnas requeridas\n",
    "data_m2.dropna(inplace=True)            #Eliminar filas cuando no posean datos de precio o superficie\n",
    "data_m2.sort_values('surface').tail()   #Propiedades mas grandes"
   ]
  },
  {
   "cell_type": "code",
   "execution_count": 36,
   "id": "a018cb2a",
   "metadata": {},
   "outputs": [
    {
     "data": {
      "text/html": [
       "<div>\n",
       "<style scoped>\n",
       "    .dataframe tbody tr th:only-of-type {\n",
       "        vertical-align: middle;\n",
       "    }\n",
       "\n",
       "    .dataframe tbody tr th {\n",
       "        vertical-align: top;\n",
       "    }\n",
       "\n",
       "    .dataframe thead th {\n",
       "        text-align: right;\n",
       "    }\n",
       "</style>\n",
       "<table border=\"1\" class=\"dataframe\">\n",
       "  <thead>\n",
       "    <tr style=\"text-align: right;\">\n",
       "      <th></th>\n",
       "      <th>surface</th>\n",
       "      <th>price</th>\n",
       "    </tr>\n",
       "  </thead>\n",
       "  <tbody>\n",
       "    <tr>\n",
       "      <th>13074</th>\n",
       "      <td>1600.0</td>\n",
       "      <td>7000000</td>\n",
       "    </tr>\n",
       "    <tr>\n",
       "      <th>403</th>\n",
       "      <td>2400.0</td>\n",
       "      <td>7800000</td>\n",
       "    </tr>\n",
       "    <tr>\n",
       "      <th>12147</th>\n",
       "      <td>852.0</td>\n",
       "      <td>7900000</td>\n",
       "    </tr>\n",
       "    <tr>\n",
       "      <th>7689</th>\n",
       "      <td>1165.0</td>\n",
       "      <td>8000000</td>\n",
       "    </tr>\n",
       "    <tr>\n",
       "      <th>11862</th>\n",
       "      <td>1587.0</td>\n",
       "      <td>8000000</td>\n",
       "    </tr>\n",
       "  </tbody>\n",
       "</table>\n",
       "</div>"
      ],
      "text/plain": [
       "       surface    price\n",
       "13074   1600.0  7000000\n",
       "403     2400.0  7800000\n",
       "12147    852.0  7900000\n",
       "7689    1165.0  8000000\n",
       "11862   1587.0  8000000"
      ]
     },
     "execution_count": 36,
     "metadata": {},
     "output_type": "execute_result"
    }
   ],
   "source": [
    "data_m2.sort_values('price').tail()  #Propiedades mas costosas"
   ]
  },
  {
   "cell_type": "code",
   "execution_count": 62,
   "id": "common-drilling",
   "metadata": {},
   "outputs": [
    {
     "data": {
      "image/png": "[encoded data removed]",
      "text/plain": [
       "<Figure size 640x480 with 1 Axes>"
      ]
     },
     "metadata": {},
     "output_type": "display_data"
    }
   ],
   "source": [
    "# TODO:\n",
    "import seaborn as sns\n",
    "plt.fig= plt.figsize = (10, 5)\n",
    "plt.scatter(data = data_m2, x = \"price\", y = \"surface\")\n",
    "plt.tight_layout()\n",
    "plt.show()"
   ]
  },
  {
   "cell_type": "code",
   "execution_count": 38,
   "id": "92a486d5",
   "metadata": {},
   "outputs": [
    {
     "name": "stdout",
     "output_type": "stream",
     "text": [
      "Las propiedad mas grande cuesta 289000 USD, y tiene una superficie de 249000.0 unidades cuadradas.\n",
      "Las propiedades (2) mas costosas cuestan 8000000 USD, y tienen una superficie de 1165.0 y 1587.0 unidades cuadradas.\n"
     ]
    }
   ],
   "source": [
    "#Revision de relacion entre las superficies y precios de las propiedades mas grandes y las propiedades mas caras\n",
    "max_price = max(data_m2['price'])                                                                   #Valor de propiedad mas cara\n",
    "max_surface = max(data_m2['surface'])                                                               #Superficie de propiedad mas grande\n",
    "precio_area_mayor= (data_m2.loc[data_m2['surface']==max_surface].price).to_string(index=False)      #Precio de propiedad mas grande\n",
    "area_precio_mayor = (data_m2.loc[data_m2['price']==max_price].surface).to_string(index=False)       #Area de propiedades mas caras (son dos)\n",
    "apm = area_precio_mayor[:6] + ' y ' + area_precio_mayor[7:]                                         #Area de propiedades mas caras (son dos) separadas por el conector \"y\"\n",
    "\n",
    "print('Las propiedad mas grande cuesta',precio_area_mayor, 'USD, y tiene una superficie de', max_surface, 'unidades cuadradas.')\n",
    "print('Las propiedades (2) mas costosas cuestan', max_price, 'USD, y tienen una superficie de',apm, 'unidades cuadradas.')"
   ]
  },
  {
   "attachments": {},
   "cell_type": "markdown",
   "id": "ahead-liquid",
   "metadata": {},
   "source": [
    "**TODO: No existe una fuerte correlacion entre las variables precio y superficie, esto se puede deber a que otros atributos sean mas determinantes al momento de avaluar una propiedad: por ejemplo que la ubicacion tenga mayor relevancia para definir el precio o que la propiedad sea de caracter rural o urbano. Esto se puede concluir debido a que las propiedades mas grandes no son las mas caras. Conociendo el mercado inmobiliario español, en el area urbana de Madrid por ejemplo, la centralidad es un factor muy relevante al tasar una propiedad."
   ]
  },
  {
   "attachments": {},
   "cell_type": "markdown",
   "id": "coordinate-sunrise",
   "metadata": {},
   "source": [
    "#### Ejercicio 12. ¿Cuántas agencia de bienes raíces contiene el dataset? (★★☆)\n",
    "\n",
    "Imprime el valor obtenido."
   ]
  },
  {
   "cell_type": "code",
   "execution_count": 39,
   "id": "valid-honolulu",
   "metadata": {},
   "outputs": [
    {
     "name": "stdout",
     "output_type": "stream",
     "text": [
      "Existen 1821 agencias de bienes raices en el dataset.\n"
     ]
    }
   ],
   "source": [
    "# TODO\n",
    "print(f'Existen', dt['realEstate_name'].drop_duplicates().count(),'agencias de bienes raices en el dataset.')"
   ]
  },
  {
   "attachments": {},
   "cell_type": "markdown",
   "id": "binding-ebony",
   "metadata": {},
   "source": [
    "#### Ejercicio 13. ¿Cuál es la población (columna level5) que contiene la mayor cantidad de casas?(★★☆)\n",
    "\n",
    "Imprima la población y el número de casas."
   ]
  },
  {
   "cell_type": "code",
   "execution_count": 40,
   "id": "static-perry",
   "metadata": {},
   "outputs": [
    {
     "name": "stdout",
     "output_type": "stream",
     "text": [
      "La poblacion de   Madrid Capital es la que mayor numero de casas posee en el database con un total de 6643 und.\n",
      "level5\n",
      " Madrid Capital         6643\n",
      "Alcalá de Henares        525\n",
      "Las Rozas de Madrid      383\n",
      "Móstoles                 325\n",
      "Getafe                   290\n",
      "                        ... \n",
      "Fresno de Torote           1\n",
      "Pinilla del Valle          1\n",
      "Rascafría                  1\n",
      "La Hiruela                 1\n",
      "Montejo de la Sierra       1\n",
      "Name: count, Length: 168, dtype: int64\n"
     ]
    }
   ],
   "source": [
    "# TODO\n",
    "casas_max =(dt['level5'].value_counts())\n",
    "num_max = max(dt['level5'].value_counts())\n",
    "pobl_max = casas_max.idxmax()\n",
    "\n",
    "print(f'La poblacion de ', pobl_max,'es la que mayor numero de casas posee en el database con un total de', num_max,'und.')\n",
    "print(dt['level5'].value_counts())      #Comprobar poblacion con mayor numero de propiedades"
   ]
  },
  {
   "attachments": {},
   "cell_type": "markdown",
   "id": "entire-classification",
   "metadata": {},
   "source": [
    "#### Ejercicio 14. Ahora vamos a trabajar con el \"cinturón sur\" de Madrid. Has un subconjunto del Dataframe original que contenga las siguientes poblaciones (columna level5): \"Fuenlabrada\",\"Leganés\",\"Getafe\",\"Alcorcón\" (★★☆)\n",
    "\n",
    "Pista: Filtra el Dataframe original usando la columna `level5` y la función `isin`"
   ]
  },
  {
   "cell_type": "code",
   "execution_count": 41,
   "id": "binary-input",
   "metadata": {},
   "outputs": [
    {
     "data": {
      "text/html": [
       "<div>\n",
       "<style scoped>\n",
       "    .dataframe tbody tr th:only-of-type {\n",
       "        vertical-align: middle;\n",
       "    }\n",
       "\n",
       "    .dataframe tbody tr th {\n",
       "        vertical-align: top;\n",
       "    }\n",
       "\n",
       "    .dataframe thead th {\n",
       "        text-align: right;\n",
       "    }\n",
       "</style>\n",
       "<table border=\"1\" class=\"dataframe\">\n",
       "  <thead>\n",
       "    <tr style=\"text-align: right;\">\n",
       "      <th></th>\n",
       "      <th>Unnamed: 0</th>\n",
       "      <th>id_realEstates</th>\n",
       "      <th>isNew</th>\n",
       "      <th>realEstate_name</th>\n",
       "      <th>phone_realEstate</th>\n",
       "      <th>url_inmueble</th>\n",
       "      <th>rooms</th>\n",
       "      <th>bathrooms</th>\n",
       "      <th>surface</th>\n",
       "      <th>price</th>\n",
       "      <th>...</th>\n",
       "      <th>level4Id</th>\n",
       "      <th>level5Id</th>\n",
       "      <th>level6Id</th>\n",
       "      <th>level7Id</th>\n",
       "      <th>level8Id</th>\n",
       "      <th>accuracy</th>\n",
       "      <th>latitude</th>\n",
       "      <th>longitude</th>\n",
       "      <th>zipCode</th>\n",
       "      <th>customZone</th>\n",
       "    </tr>\n",
       "  </thead>\n",
       "  <tbody>\n",
       "    <tr>\n",
       "      <th>1</th>\n",
       "      <td>2</td>\n",
       "      <td>153867863</td>\n",
       "      <td>False</td>\n",
       "      <td>tecnocasa fuenlabrada ferrocarril</td>\n",
       "      <td>916358736.0</td>\n",
       "      <td>https://www.fotocasa.es/es/comprar/vivienda/ma...</td>\n",
       "      <td>3.0</td>\n",
       "      <td>1.0</td>\n",
       "      <td>NaN</td>\n",
       "      <td>89000</td>\n",
       "      <td>...</td>\n",
       "      <td>0</td>\n",
       "      <td>0</td>\n",
       "      <td>0</td>\n",
       "      <td>0</td>\n",
       "      <td>0</td>\n",
       "      <td>1</td>\n",
       "      <td>40,28674</td>\n",
       "      <td>-3,79351</td>\n",
       "      <td>NaN</td>\n",
       "      <td>NaN</td>\n",
       "    </tr>\n",
       "    <tr>\n",
       "      <th>3</th>\n",
       "      <td>4</td>\n",
       "      <td>152776331</td>\n",
       "      <td>False</td>\n",
       "      <td>tecnocasa fuenlabrada ferrocarril</td>\n",
       "      <td>916358736.0</td>\n",
       "      <td>https://www.fotocasa.es/es/comprar/vivienda/ma...</td>\n",
       "      <td>3.0</td>\n",
       "      <td>1.0</td>\n",
       "      <td>86.0</td>\n",
       "      <td>89000</td>\n",
       "      <td>...</td>\n",
       "      <td>0</td>\n",
       "      <td>0</td>\n",
       "      <td>0</td>\n",
       "      <td>0</td>\n",
       "      <td>0</td>\n",
       "      <td>0</td>\n",
       "      <td>40,2853785786438</td>\n",
       "      <td>-3,79508142135624</td>\n",
       "      <td>NaN</td>\n",
       "      <td>NaN</td>\n",
       "    </tr>\n",
       "    <tr>\n",
       "      <th>85</th>\n",
       "      <td>86</td>\n",
       "      <td>153152077</td>\n",
       "      <td>False</td>\n",
       "      <td>sinergical inmobiliaria</td>\n",
       "      <td>NaN</td>\n",
       "      <td>https://www.fotocasa.es/es/comprar/vivienda/le...</td>\n",
       "      <td>1.0</td>\n",
       "      <td>1.0</td>\n",
       "      <td>50.0</td>\n",
       "      <td>107000</td>\n",
       "      <td>...</td>\n",
       "      <td>0</td>\n",
       "      <td>0</td>\n",
       "      <td>0</td>\n",
       "      <td>0</td>\n",
       "      <td>0</td>\n",
       "      <td>1</td>\n",
       "      <td>40,35059</td>\n",
       "      <td>-3,82693</td>\n",
       "      <td>NaN</td>\n",
       "      <td>NaN</td>\n",
       "    </tr>\n",
       "    <tr>\n",
       "      <th>94</th>\n",
       "      <td>95</td>\n",
       "      <td>153995577</td>\n",
       "      <td>False</td>\n",
       "      <td>viviendas365com</td>\n",
       "      <td>911226014.0</td>\n",
       "      <td>https://www.fotocasa.es/es/comprar/vivienda/le...</td>\n",
       "      <td>3.0</td>\n",
       "      <td>2.0</td>\n",
       "      <td>120.0</td>\n",
       "      <td>320000</td>\n",
       "      <td>...</td>\n",
       "      <td>0</td>\n",
       "      <td>0</td>\n",
       "      <td>0</td>\n",
       "      <td>0</td>\n",
       "      <td>0</td>\n",
       "      <td>0</td>\n",
       "      <td>40,31933</td>\n",
       "      <td>-3,77574</td>\n",
       "      <td>NaN</td>\n",
       "      <td>NaN</td>\n",
       "    </tr>\n",
       "    <tr>\n",
       "      <th>109</th>\n",
       "      <td>110</td>\n",
       "      <td>153586414</td>\n",
       "      <td>False</td>\n",
       "      <td>area uno asesores inmobiliarios</td>\n",
       "      <td>912664081.0</td>\n",
       "      <td>https://www.fotocasa.es/es/comprar/vivienda/ma...</td>\n",
       "      <td>3.0</td>\n",
       "      <td>3.0</td>\n",
       "      <td>142.0</td>\n",
       "      <td>425000</td>\n",
       "      <td>...</td>\n",
       "      <td>0</td>\n",
       "      <td>0</td>\n",
       "      <td>0</td>\n",
       "      <td>0</td>\n",
       "      <td>0</td>\n",
       "      <td>0</td>\n",
       "      <td>40,3313411</td>\n",
       "      <td>-3,8313868</td>\n",
       "      <td>NaN</td>\n",
       "      <td>NaN</td>\n",
       "    </tr>\n",
       "  </tbody>\n",
       "</table>\n",
       "<p>5 rows × 37 columns</p>\n",
       "</div>"
      ],
      "text/plain": [
       "     Unnamed: 0  id_realEstates  isNew                    realEstate_name  \\\n",
       "1             2       153867863  False  tecnocasa fuenlabrada ferrocarril   \n",
       "3             4       152776331  False  tecnocasa fuenlabrada ferrocarril   \n",
       "85           86       153152077  False            sinergical inmobiliaria   \n",
       "94           95       153995577  False                    viviendas365com   \n",
       "109         110       153586414  False    area uno asesores inmobiliarios   \n",
       "\n",
       "     phone_realEstate                                       url_inmueble  \\\n",
       "1         916358736.0  https://www.fotocasa.es/es/comprar/vivienda/ma...   \n",
       "3         916358736.0  https://www.fotocasa.es/es/comprar/vivienda/ma...   \n",
       "85                NaN  https://www.fotocasa.es/es/comprar/vivienda/le...   \n",
       "94        911226014.0  https://www.fotocasa.es/es/comprar/vivienda/le...   \n",
       "109       912664081.0  https://www.fotocasa.es/es/comprar/vivienda/ma...   \n",
       "\n",
       "     rooms  bathrooms  surface   price  ... level4Id level5Id level6Id  \\\n",
       "1      3.0        1.0      NaN   89000  ...        0        0        0   \n",
       "3      3.0        1.0     86.0   89000  ...        0        0        0   \n",
       "85     1.0        1.0     50.0  107000  ...        0        0        0   \n",
       "94     3.0        2.0    120.0  320000  ...        0        0        0   \n",
       "109    3.0        3.0    142.0  425000  ...        0        0        0   \n",
       "\n",
       "    level7Id level8Id accuracy          latitude          longitude zipCode  \\\n",
       "1          0        0        1          40,28674           -3,79351     NaN   \n",
       "3          0        0        0  40,2853785786438  -3,79508142135624     NaN   \n",
       "85         0        0        1          40,35059           -3,82693     NaN   \n",
       "94         0        0        0          40,31933           -3,77574     NaN   \n",
       "109        0        0        0        40,3313411         -3,8313868     NaN   \n",
       "\n",
       "    customZone  \n",
       "1          NaN  \n",
       "3          NaN  \n",
       "85         NaN  \n",
       "94         NaN  \n",
       "109        NaN  \n",
       "\n",
       "[5 rows x 37 columns]"
      ]
     },
     "execution_count": 41,
     "metadata": {},
     "output_type": "execute_result"
    }
   ],
   "source": [
    "# TODO\n",
    "cinturon_sur = ['Fuenlabrada','Leganés','Getafe','Alcorcón']\n",
    "df_cinturon_sur_madrid = dt[dt['level5'].isin(cinturon_sur)]\n",
    "df_cinturon_sur_madrid.head()"
   ]
  },
  {
   "attachments": {},
   "cell_type": "markdown",
   "id": "severe-fisher",
   "metadata": {},
   "source": [
    "#### Ejercicio 15. Traza un gráfico de barra de la media de los precios y explica lo que observas (debes usar el subconjunto obtenido de la pregunta 14) (★★★)\n",
    "\n",
    "Imprima un gráfico de barra de la media de precios y escriba en la celda Markdown un breve análisis del sector."
   ]
  },
  {
   "cell_type": "code",
   "execution_count": 42,
   "id": "lyric-bunch",
   "metadata": {},
   "outputs": [
    {
     "data": {
      "image/png": "[encoded data removed]",
      "text/plain": [
       "<Figure size 1000x600 with 1 Axes>"
      ]
     },
     "metadata": {},
     "output_type": "display_data"
    }
   ],
   "source": [
    "# TODO:\n",
    "precios_medios = round(df_cinturon_sur_madrid.groupby('level5')['price'].mean())\n",
    "\n",
    "plt.figure(figsize=(10,6))\n",
    "plt.bar(precios_medios.index, precios_medios.values)\n",
    "plt.show()"
   ]
  },
  {
   "attachments": {},
   "cell_type": "markdown",
   "id": "sublime-newspaper",
   "metadata": {},
   "source": [
    "**TODO: Markdown**. En promedio el area de Getafe posee propiedades mas costosas, mientras que el area de Fuenlabrada tiene el menor promedio de precios de propiedades."
   ]
  },
  {
   "attachments": {},
   "cell_type": "markdown",
   "id": "speaking-diamond",
   "metadata": {},
   "source": [
    "#### Ejercicio 16. Calcula la media y la varianza dela muestra para las siguientes variables: precio, habitaciones, superficie y baños (debes usar el subconjunto obtenido en la pregunta 14) (★★★)\n",
    "\n",
    "Imprime ambos valores por  cada variable."
   ]
  },
  {
   "cell_type": "code",
   "execution_count": 43,
   "id": "random-feeling",
   "metadata": {},
   "outputs": [
    {
     "name": "stdout",
     "output_type": "stream",
     "text": [
      "Varianza de precio: 14921367508.05 Promedio de precio: 223094.48\n",
      "Varianza de habitaciones: 0.72 Promedio de habitaciones: 3.02\n",
      "Varianza de superficie: 4263.05 Promedio de superficie: 111.75\n",
      "Varianza de baños: 0.57 Promedio de baños: 1.63\n"
     ]
    }
   ],
   "source": [
    "# TODO\n",
    "price_mean = df_cinturon_sur_madrid['price'].mean().round(2)\n",
    "price_var = df_cinturon_sur_madrid['price'].var().round(2)\n",
    "\n",
    "rooms_mean = df_cinturon_sur_madrid['rooms'].mean().round(2)\n",
    "rooms_var = df_cinturon_sur_madrid['rooms'].var().round(2)\n",
    "\n",
    "surface_mean = df_cinturon_sur_madrid['surface'].mean().round(2)\n",
    "surface_var = df_cinturon_sur_madrid['surface'].var().round(2)\n",
    "\n",
    "bathrooms_mean = df_cinturon_sur_madrid['bathrooms'].mean().round(2)\n",
    "bathrooms_var = df_cinturon_sur_madrid['bathrooms'].var().round(2)\n",
    "\n",
    "print(f'Varianza de precio:', price_var, 'Promedio de precio:', price_mean)\n",
    "print(f'Varianza de habitaciones:', rooms_var, 'Promedio de habitaciones:', rooms_mean)\n",
    "print(f'Varianza de superficie:', surface_var, 'Promedio de superficie:', surface_mean)\n",
    "print(f'Varianza de baños:', bathrooms_var, 'Promedio de baños:', bathrooms_mean)"
   ]
  },
  {
   "cell_type": "markdown",
   "id": "1fcc2229",
   "metadata": {},
   "source": [
    "#### Exercise 17. What is the most expensive house of each population? You must use the subset obtained in the question 14 (★★☆)\n",
    "\n",
    "Print both the address and the price of the selected house of each population. You can print a DataFrame or a single line for each population"
   ]
  },
  {
   "cell_type": "code",
   "execution_count": 44,
   "id": "fifteen-browse",
   "metadata": {},
   "outputs": [
    {
     "data": {
      "text/html": [
       "<div>\n",
       "<style scoped>\n",
       "    .dataframe tbody tr th:only-of-type {\n",
       "        vertical-align: middle;\n",
       "    }\n",
       "\n",
       "    .dataframe tbody tr th {\n",
       "        vertical-align: top;\n",
       "    }\n",
       "\n",
       "    .dataframe thead th {\n",
       "        text-align: right;\n",
       "    }\n",
       "</style>\n",
       "<table border=\"1\" class=\"dataframe\">\n",
       "  <thead>\n",
       "    <tr style=\"text-align: right;\">\n",
       "      <th></th>\n",
       "      <th>address</th>\n",
       "      <th>price</th>\n",
       "    </tr>\n",
       "  </thead>\n",
       "  <tbody>\n",
       "    <tr>\n",
       "      <th>5585</th>\n",
       "      <td>Alcorcón</td>\n",
       "      <td>950000</td>\n",
       "    </tr>\n",
       "    <tr>\n",
       "      <th>11561</th>\n",
       "      <td>Calle de Paulo Freire, 5, Fuenlabrada</td>\n",
       "      <td>490000</td>\n",
       "    </tr>\n",
       "    <tr>\n",
       "      <th>2881</th>\n",
       "      <td>Getafe</td>\n",
       "      <td>1050000</td>\n",
       "    </tr>\n",
       "    <tr>\n",
       "      <th>10412</th>\n",
       "      <td>Avenida Reina Sofía, Leganés</td>\n",
       "      <td>650000</td>\n",
       "    </tr>\n",
       "  </tbody>\n",
       "</table>\n",
       "</div>"
      ],
      "text/plain": [
       "                                     address    price\n",
       "5585                                Alcorcón   950000\n",
       "11561  Calle de Paulo Freire, 5, Fuenlabrada   490000\n",
       "2881                                  Getafe  1050000\n",
       "10412           Avenida Reina Sofía, Leganés   650000"
      ]
     },
     "execution_count": 44,
     "metadata": {},
     "output_type": "execute_result"
    }
   ],
   "source": [
    "# TODO\n",
    "rev_casas_caras = df_cinturon_sur_madrid.groupby('level5')['price'].idxmax()\n",
    "casa_cara_cinturon = df_cinturon_sur_madrid.loc[rev_casas_caras, ['address', 'price']]\n",
    "casa_cara_cinturon"
   ]
  },
  {
   "cell_type": "markdown",
   "id": "fifteen-browse",
   "metadata": {},
   "source": [
    "#### Exercise 18. Normalize the variable of prices for each population and plot the 4 histograms in the same plot (you must use the subset obtained in the question 14) (★★★)\n",
    "\n",
    "For the normalization method you can use the one you consider to, there is not a single correct answer to this question. Print the plot and write in the Markdown cell a brief analysis about the plot\n",
    "\n",
    "Hint: You can help yourself reviewing the multihist demo of Matplotlib"
   ]
  },
  {
   "cell_type": "code",
   "execution_count": 45,
   "id": "civic-meditation",
   "metadata": {},
   "outputs": [
    {
     "name": "stderr",
     "output_type": "stream",
     "text": [
      "/tmp/ipykernel_2527/543032132.py:10: SettingWithCopyWarning: \n",
      "A value is trying to be set on a copy of a slice from a DataFrame.\n",
      "Try using .loc[row_indexer,col_indexer] = value instead\n",
      "\n",
      "See the caveats in the documentation: https://pandas.pydata.org/pandas-docs/stable/user_guide/indexing.html#returning-a-view-versus-a-copy\n",
      "  df_alcorcon['normalizado'] = (df_alcorcon['price']- df_alcorcon['price'].min())/(df_alcorcon['price'].max() - df_alcorcon['price'].min())\n",
      "/tmp/ipykernel_2527/543032132.py:11: SettingWithCopyWarning: \n",
      "A value is trying to be set on a copy of a slice from a DataFrame.\n",
      "Try using .loc[row_indexer,col_indexer] = value instead\n",
      "\n",
      "See the caveats in the documentation: https://pandas.pydata.org/pandas-docs/stable/user_guide/indexing.html#returning-a-view-versus-a-copy\n",
      "  df_getafe['normalizado'] = (df_getafe['price']- df_getafe['price'].min())/(df_getafe['price'].max() - df_getafe['price'].min())\n",
      "/tmp/ipykernel_2527/543032132.py:12: SettingWithCopyWarning: \n",
      "A value is trying to be set on a copy of a slice from a DataFrame.\n",
      "Try using .loc[row_indexer,col_indexer] = value instead\n",
      "\n",
      "See the caveats in the documentation: https://pandas.pydata.org/pandas-docs/stable/user_guide/indexing.html#returning-a-view-versus-a-copy\n",
      "  df_fuenlabrada['normalizado'] = (df_fuenlabrada['price']- df_fuenlabrada['price'].min())/(df_fuenlabrada['price'].max() - df_fuenlabrada['price'].min())\n",
      "/tmp/ipykernel_2527/543032132.py:13: SettingWithCopyWarning: \n",
      "A value is trying to be set on a copy of a slice from a DataFrame.\n",
      "Try using .loc[row_indexer,col_indexer] = value instead\n",
      "\n",
      "See the caveats in the documentation: https://pandas.pydata.org/pandas-docs/stable/user_guide/indexing.html#returning-a-view-versus-a-copy\n",
      "  df_leganes['normalizado'] = (df_leganes['price']- df_leganes['price'].min())/(df_leganes['price'].max() - df_leganes['price'].min())\n"
     ]
    },
    {
     "data": {
      "image/png": "[encoded data removed]",
      "text/plain": [
       "<Figure size 640x480 with 1 Axes>"
      ]
     },
     "metadata": {},
     "output_type": "display_data"
    }
   ],
   "source": [
    "# TODO\n",
    "\n",
    "df_alcorcon =df_cinturon_sur_madrid[df_cinturon_sur_madrid['level5']== 'Alcorcón']\n",
    "df_getafe =df_cinturon_sur_madrid[df_cinturon_sur_madrid['level5']== 'Getafe']\n",
    "df_fuenlabrada =df_cinturon_sur_madrid[df_cinturon_sur_madrid['level5']== 'Fuenlabrada']\n",
    "df_leganes =df_cinturon_sur_madrid[df_cinturon_sur_madrid['level5']== 'Leganés']\n",
    "\n",
    "#ds_getafe = ds_comunidades_filtradas[ds_comunidades_filtradas['level5'] == 'Getafe'].copy()\n",
    "\n",
    "df_alcorcon['normalizado'] = (df_alcorcon['price']- df_alcorcon['price'].min())/(df_alcorcon['price'].max() - df_alcorcon['price'].min())\n",
    "df_getafe['normalizado'] = (df_getafe['price']- df_getafe['price'].min())/(df_getafe['price'].max() - df_getafe['price'].min())\n",
    "df_fuenlabrada['normalizado'] = (df_fuenlabrada['price']- df_fuenlabrada['price'].min())/(df_fuenlabrada['price'].max() - df_fuenlabrada['price'].min())\n",
    "df_leganes['normalizado'] = (df_leganes['price']- df_leganes['price'].min())/(df_leganes['price'].max() - df_leganes['price'].min())\n",
    "\n",
    "plt.hist(df_alcorcon['normalizado'], bins=50, alpha=0.5, label='Alcorcón')\n",
    "plt.hist(df_getafe['normalizado'], bins=50, alpha=0.5, label='Getafe')\n",
    "plt.hist(df_fuenlabrada['normalizado'], bins=50, alpha=0.5, label='Fuenlabrada')\n",
    "plt.hist(df_leganes['normalizado'], bins=50, alpha=0.5, label='Leganés')\n",
    "\n",
    "plt.legend()\n",
    "plt.xlabel('Precio Normalizado')\n",
    "plt.ylabel('Cantidad')\n",
    "plt.show()"
   ]
  },
  {
   "cell_type": "markdown",
   "id": "civic-meditation",
   "metadata": {},
   "source": [
    "**TODO: Markdown**. Mantenemos una concentracion de las propiedades en Alcorcon, Fueblabrada y Leganes ubicadas en los menores precios, mientras Getafe presenta precios relativamente mas altos en mayor cantidad. Aun asi los outlayers mas lejanos son del area de Fuenlabrada y Leganes."
   ]
  },
  {
   "attachments": {},
   "cell_type": "markdown",
   "id": "patent-jonathan",
   "metadata": {},
   "source": [
    "#### Exercise 19. What can you say about the price per square meter (price/m2) between the towns of \"Getafe\" and \"Alcorcón\"? You must use the subset obtained in the question 14 (★★☆)\n",
    "\n",
    "Hint: Create a new column called `pps` (price per square) and then analyse the values"
   ]
  },
  {
   "cell_type": "code",
   "execution_count": 46,
   "id": "initial-liverpool",
   "metadata": {},
   "outputs": [
    {
     "name": "stdout",
     "output_type": "stream",
     "text": [
      "El promedio de precios por metro cuadrado en la poblacion de Getafe es de  2066.31 Euros.\n",
      "El promedio de precios por metro cuadrado en la poblacion de Alcorcón es de  2239.3 Euros.\n",
      "Las poblaciones poseen distintos promedios de precios de metro cuadrado por vivienda.\n"
     ]
    },
    {
     "name": "stderr",
     "output_type": "stream",
     "text": [
      "/tmp/ipykernel_2527/3018562678.py:2: SettingWithCopyWarning: \n",
      "A value is trying to be set on a copy of a slice from a DataFrame.\n",
      "Try using .loc[row_indexer,col_indexer] = value instead\n",
      "\n",
      "See the caveats in the documentation: https://pandas.pydata.org/pandas-docs/stable/user_guide/indexing.html#returning-a-view-versus-a-copy\n",
      "  df_getafe['pps'] = df_getafe['price']/df_getafe['surface']\n",
      "/tmp/ipykernel_2527/3018562678.py:3: SettingWithCopyWarning: \n",
      "A value is trying to be set on a copy of a slice from a DataFrame.\n",
      "Try using .loc[row_indexer,col_indexer] = value instead\n",
      "\n",
      "See the caveats in the documentation: https://pandas.pydata.org/pandas-docs/stable/user_guide/indexing.html#returning-a-view-versus-a-copy\n",
      "  df_alcorcon['pps'] = df_alcorcon['price']/df_alcorcon['surface']\n"
     ]
    }
   ],
   "source": [
    "# TODO\n",
    "df_getafe['pps'] = df_getafe['price']/df_getafe['surface']\n",
    "df_alcorcon['pps'] = df_alcorcon['price']/df_alcorcon['surface']\n",
    "\n",
    "print(f'El promedio de precios por metro cuadrado en la poblacion de Getafe es de ', df_getafe['pps'].mean().round(2), 'Euros.')\n",
    "print(f'El promedio de precios por metro cuadrado en la poblacion de Alcorcón es de ', df_alcorcon['pps'].mean().round(2), 'Euros.')\n",
    "\n",
    "if df_getafe['pps'].mean().round(2)== df_alcorcon['pps'].mean().round(2):\n",
    "    print('Ambas poblaciones poseen el mismo promedio de precios de metro cuadrado por vivienda.')\n",
    "else:\n",
    "    print('Las poblaciones poseen distintos promedios de precios de metro cuadrado por vivienda.')"
   ]
  },
  {
   "cell_type": "markdown",
   "id": "initial-liverpool",
   "metadata": {},
   "source": [
    "#### Exercise 20. Make the same plot for 4 different populations (level5 column) and rearrange them on the same graph? You must use the subset obtained in the question 14 (★★☆) \n",
    "Hint: make a scatter plot of each population using subplots."
   ]
  },
  {
   "cell_type": "code",
   "execution_count": 47,
   "id": "accepting-airfare",
   "metadata": {},
   "outputs": [
    {
     "data": {
      "image/png": "[encoded data removed]",
      "text/plain": [
       "<Figure size 1500x1500 with 4 Axes>"
      ]
     },
     "metadata": {},
     "output_type": "display_data"
    }
   ],
   "source": [
    "# TODO\n",
    "fig, axis = plt.subplots(2, 2, figsize=(15, 15))\n",
    "\n",
    "sns.scatterplot(ax=axis[0,0], data=df_getafe, x='price', y='rooms', color='red').set_title('Getafe relacion Precio/N°habitaciones')\n",
    "sns.scatterplot(ax=axis[0,1], data=df_alcorcon, x='price', y='rooms', color='green').set_title('Alcorcón relacion Precio/N°habitaciones')\n",
    "sns.scatterplot(ax=axis[1,0], data=df_fuenlabrada, x='price', y='rooms', color='blue').set_title('Fuenlabrada relacion Precio/N°habitaciones')\n",
    "sns.scatterplot(ax=axis[1,1], data=df_leganes, x='price', y='rooms', color='brown').set_title('Leganés relacion Precio/N°habitaciones')\n",
    "\n",
    "plt.show()\n"
   ]
  },
  {
   "attachments": {},
   "cell_type": "markdown",
   "id": "blocked-effects",
   "metadata": {},
   "source": [
    "#### Ejercicio 21. Realiza un trazado de las coordenadas (columnas latitud y longitud) del cinturón ur de Madrid por color d cada población (debes usar el subconjunto obtenido en la pregunta 14) (★★★★)\n",
    "\n",
    "Ejecuta la siguiente celda y luego comienza a codear en la siguiente. Debes implementar u código simple que transforme las columnas de coordenadas en un diccionario de python (agrega más información si es necesario) y agrégala al mapa."
   ]
  },
  {
   "cell_type": "code",
   "execution_count": 48,
   "id": "63379349",
   "metadata": {},
   "outputs": [
    {
     "data": {
      "application/vnd.jupyter.widget-view+json": {
       "model_id": "ac1d11add5b34ee49b97c72c726a0baa",
       "version_major": 2,
       "version_minor": 0
      },
      "text/plain": [
       "Map(center=[40.35, -3.83], controls=(ZoomControl(options=['position', 'zoom_in_text', 'zoom_in_title', 'zoom_o…"
      ]
     },
     "execution_count": 48,
     "metadata": {},
     "output_type": "execute_result"
    }
   ],
   "source": [
    "from ipyleaflet import Map, basemaps, Marker, CircleMarker\n",
    "\n",
    "ds_madrid = pd.read_csv('assets/real_estate.csv', sep=';')\n",
    "cinturon_sur = [\"Fuenlabrada\", \"Leganés\", \"Getafe\", \"Alcorcón\"]\n",
    "plano_madrid = Map(center=(40.35, -3.83), zoom=12, basemap=basemaps.OpenStreetMap.Mapnik)\n",
    "\n",
    "for population in cinturon_sur:\n",
    "    subset = ds[ds['level5'] == population]\n",
    "    for index, row in subset.iterrows():\n",
    "        lat = float(row['latitude'].replace(',', '.'))  \n",
    "        lon = float(row['longitude'].replace(',', '.'))  \n",
    "        \n",
    "        # Define the marker color based \n",
    "        if population == \"Alcorcón\":\n",
    "            color = \"blue\"\n",
    "        elif population == \"Fuenlabrada\":\n",
    "            color = \"red\"\n",
    "        elif population == \"Getafe\":\n",
    "            color = \"green\"\n",
    "        elif population == \"Leganés\":\n",
    "            color = \"yellow\"\n",
    "        \n",
    "        marker = CircleMarker(location=(lat, lon), color=color, radius=3)\n",
    "        plano_madrid.add_layer(marker)\n",
    "\n",
    "plano_madrid"
   ]
  },
  {
   "cell_type": "code",
   "execution_count": 66,
   "id": "present-mistress",
   "metadata": {},
   "outputs": [],
   "source": [
    "## Aquí: traza la coordenadas de los estados\n",
    "\n",
    "## PON TU CÓDIGO AQUÍ:\n"
   ]
  }
 ],
 "metadata": {
  "kernelspec": {
   "display_name": "Python 3",
   "language": "python",
   "name": "python3"
  },
  "language_info": {
   "codemirror_mode": {
    "name": "ipython",
    "version": 3
   },
   "file_extension": ".py",
   "mimetype": "text/x-python",
   "name": "python",
   "nbconvert_exporter": "python",
   "pygments_lexer": "ipython3",
   "version": "3.11.4"
  }
 },
 "nbformat": 4,
 "nbformat_minor": 5
}
